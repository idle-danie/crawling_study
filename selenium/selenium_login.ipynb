{
 "cells": [
  {
   "cell_type": "code",
   "execution_count": null,
   "id": "e1e6514c",
   "metadata": {},
   "outputs": [],
   "source": [
    "from selenium import webdriver\n",
    "from selenium.webdriver import ActionChains\n",
    "from webdriver_manager.chrome import ChromeDriverManager\n",
    "from selenium.webdriver.common.actions.action_builder import ActionBuilder\n",
    "from selenium.webdriver import Keys, ActionChains\n",
    "from selenium.webdriver.chrome.service import Service\n",
    "from selenium.webdriver.common.by import By\n",
    "import time"
   ]
  },
  {
   "cell_type": "code",
   "execution_count": null,
   "id": "80b21410-4429-470b-b7ab-a632cae667e6",
   "metadata": {},
   "outputs": [],
   "source": [
    "driver = webdriver.Chrome(service = Service(ChromeDriverManager().install()))\n",
    "driver.get(\"https://hashcode.co.kr/\")\n",
    "time.sleep(1)\n",
    "\n",
    "home_login_button = driver.find_element(By.CLASS_NAME, \"ReBoJZjit5lOjyMKk0bT\")\n",
    "ActionChains(driver).click(home_login_button).perform()\n",
    "\n",
    "id_input = driver.find_element(By.NAME, \"email\")\n",
    "ActionChains(driver).send_keys_to_element(id_input, \"my_id\").perform()\n",
    "\n",
    "pw_input = driver.find_element(By.XPATH, \"//input[@type='password']\")\n",
    "ActionChains(driver).send_keys_to_element(pw_input, \"123\").perform()\n",
    "\n",
    "login_button = driver.find_element(By.CLASS_NAME, \"itAWTII94uCyf9uUgREi\")\n",
    "ActionChains(driver).click(login_button).perform()"
   ]
  }
 ],
 "metadata": {
  "kernelspec": {
   "display_name": "Python 3 (ipykernel)",
   "language": "python",
   "name": "python3"
  },
  "language_info": {
   "codemirror_mode": {
    "name": "ipython",
    "version": 3
   },
   "file_extension": ".py",
   "mimetype": "text/x-python",
   "name": "python",
   "nbconvert_exporter": "python",
   "pygments_lexer": "ipython3",
   "version": "3.9.7"
  }
 },
 "nbformat": 4,
 "nbformat_minor": 5
}
