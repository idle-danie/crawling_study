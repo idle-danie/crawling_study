{
 "cells": [
  {
   "cell_type": "code",
   "execution_count": 1,
   "id": "e1e6514c",
   "metadata": {},
   "outputs": [],
   "source": [
    "from selenium import webdriver\n",
    "from selenium.webdriver.chrome.service import Service\n",
    "from selenium.webdriver.common.by import By\n",
    "from webdriver_manager.chrome import ChromeDriverManager"
   ]
  },
  {
   "cell_type": "code",
   "execution_count": 5,
   "id": "3d6e0826",
   "metadata": {},
   "outputs": [],
   "source": [
    "from selenium.webdriver.support.ui import WebDriverWait\n",
    "\n",
    "with webdriver.Chrome(service = Service(ChromeDriverManager().install())) as driver:\n",
    "    driver.get(\"https://indistreet.com/live?sortOption=startDate%3AASC\")\n",
    "    driver.implicitly_wait(10)\n",
    "    driver.find_element(By.XPATH, '//*[@id=\"__next\"]/div/main/div[2]/div/div[4]/div[1]/div[1]/div/a/div[2]/p[1]')\n",
    "    "
   ]
  },
  {
   "cell_type": "code",
   "execution_count": 9,
   "id": "65226f02-237c-4e97-b176-f14d56412c64",
   "metadata": {},
   "outputs": [
    {
     "name": "stdout",
     "output_type": "stream",
     "text": [
      "Knock Live Rock band\n"
     ]
    }
   ],
   "source": [
    "from selenium.webdriver.support import expected_conditions as EC\n",
    "\n",
    "with webdriver.Chrome(service = Service(ChromeDriverManager().install())) as driver:\n",
    "    driver.get(\"https://indistreet.com/live?sortOption=startDate%3AASC\")\n",
    "    element = WebDriverWait(driver,10).until(EC.presence_of_element_located((By.XPATH, '//*[@id=\"__next\"]/div/main/div[2]/div/div[4]/div[1]/div[1]/div/a/div[2]/p[1]')))\n",
    "    print(element.text)"
   ]
  },
  {
   "cell_type": "code",
   "execution_count": 11,
   "id": "3e70174e-0175-4b4c-9c33-ca42c3ebc59d",
   "metadata": {},
   "outputs": [
    {
     "name": "stdout",
     "output_type": "stream",
     "text": [
      "Knock Live Rock band\n",
      "Sign up\n",
      "이디어츠 1st EP 발매기념 공연\n",
      "도라페스트 4탄\n",
      "NO PASARAN! Vol.1\n",
      "LIVE in NOV 2019\n",
      "LIVE in DEC 2019\n",
      "오롯한 라이브와 함께\n",
      "LIVE in FEB\n",
      "2020 PUNK Marathon\n"
     ]
    }
   ],
   "source": [
    "with webdriver.Chrome(service = Service(ChromeDriverManager().install())) as driver:\n",
    "    driver.get(\"https://indistreet.com/live?sortOption=startDate%3AASC\")\n",
    "    driver.implicitly_wait(10)\n",
    "    for i in range(1,11):\n",
    "        element = driver.find_element(By.XPATH, '//*[@id=\"__next\"]/div/main/div[2]/div/div[4]/div[1]/div[{}]/div/a/div[2]/p[1]'.format(i))\n",
    "        print(element.text)"
   ]
  }
 ],
 "metadata": {
  "kernelspec": {
   "display_name": "Python 3 (ipykernel)",
   "language": "python",
   "name": "python3"
  },
  "language_info": {
   "codemirror_mode": {
    "name": "ipython",
    "version": 3
   },
   "file_extension": ".py",
   "mimetype": "text/x-python",
   "name": "python",
   "nbconvert_exporter": "python",
   "pygments_lexer": "ipython3",
   "version": "3.9.7"
  }
 },
 "nbformat": 4,
 "nbformat_minor": 5
}
