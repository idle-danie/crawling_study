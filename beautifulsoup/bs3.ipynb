{
 "cells": [
  {
   "cell_type": "code",
   "execution_count": null,
   "id": "57710ab3",
   "metadata": {},
   "outputs": [],
   "source": [
    "user_agent = {\"User-Agent\": \"Mozilla/5.0 (Macintosh; Intel Mac OS X 10_15_4) AppleWebKit/537.36 (KHTML, like Gecko) Chrome/83.0.4103.97 Safari/537.36\"}"
   ]
  },
  {
   "cell_type": "code",
   "execution_count": null,
   "id": "1b08d5f2-01ae-4b19-bff8-f933f12f94e4",
   "metadata": {},
   "outputs": [],
   "source": [
    "import requests\n",
    "from bs4 import BeautifulSoup\n",
    "res = requests.get(\"https://hashcode.co.kr/\", user_agent)"
   ]
  },
  {
   "cell_type": "code",
   "execution_count": null,
   "id": "cdd3635e",
   "metadata": {},
   "outputs": [],
   "source": [
    "soup = BeautifulSoup(res.text, \"html.parser\")"
   ]
  },
  {
   "cell_type": "code",
   "execution_count": null,
   "id": "c1eec3c8",
   "metadata": {},
   "outputs": [],
   "source": [
    "questions = soup.find_all(\"li\", \"question-list-item\")\n",
    "\n",
    "for question in questions:\n",
    "    print(question.find(\"div\", \"question\").find(\"div\", \"top\").h4.text)"
   ]
  },
  {
   "cell_type": "code",
   "execution_count": null,
   "id": "eed63c8f",
   "metadata": {},
   "outputs": [],
   "source": [
    "import time \n",
    "\n",
    "for i in range(1,6):\n",
    "    res = requests.get(\"https://hashcode.co.kr/?page={}\".format(i), user_agent)\n",
    "    soup = BeautifulSoup(res.text, \"html.parser\")\n",
    "    \n",
    "    questions = soup.find_all(\"li\", \"question-list-item\")\n",
    "    for question in questions:\n",
    "        print(question.find(\"div\", \"question\").find(\"div\", \"top\").h4.text)\n",
    "    \n",
    "    time.sleep(0.5)"
   ]
  }
 ],
 "metadata": {
  "kernelspec": {
   "display_name": "Python 3 (ipykernel)",
   "language": "python",
   "name": "python3"
  },
  "language_info": {
   "codemirror_mode": {
    "name": "ipython",
    "version": 3
   },
   "file_extension": ".py",
   "mimetype": "text/x-python",
   "name": "python",
   "nbconvert_exporter": "python",
   "pygments_lexer": "ipython3",
   "version": "3.9.7"
  }
 },
 "nbformat": 4,
 "nbformat_minor": 5
}
