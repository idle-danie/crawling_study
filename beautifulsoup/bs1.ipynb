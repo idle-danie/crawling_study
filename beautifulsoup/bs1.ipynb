{
 "cells": [
  {
   "cell_type": "code",
   "execution_count": null,
   "id": "1b08d5f2-01ae-4b19-bff8-f933f12f94e4",
   "metadata": {},
   "outputs": [],
   "source": [
    "%pip install bs4"
   ]
  },
  {
   "cell_type": "markdown",
   "id": "060b520e-2569-4cf0-a38c-8a68c37eb907",
   "metadata": {},
   "source": [
    "### Make beautifulSoup Object"
   ]
  },
  {
   "cell_type": "code",
   "execution_count": null,
   "id": "530b2366-1e2d-4c86-b432-9b9a56778041",
   "metadata": {},
   "outputs": [],
   "source": [
    "import requests \n",
    "\n",
    "res = requests.get(\"https://www.example.com\")\n",
    "\n",
    "res.text"
   ]
  },
  {
   "cell_type": "code",
   "execution_count": null,
   "id": "3f99f957-56b9-4615-864b-a8f68611ab7c",
   "metadata": {},
   "outputs": [],
   "source": [
    "# BeautifulSoup4 \n",
    "\n",
    "from bs4 import BeautifulSoup"
   ]
  },
  {
   "cell_type": "code",
   "execution_count": null,
   "id": "80fb516c-d62e-4f9e-a76a-a395ebeb05c3",
   "metadata": {},
   "outputs": [],
   "source": [
    "soup = BeautifulSoup(res.text, \"html.parser\")"
   ]
  },
  {
   "cell_type": "code",
   "execution_count": null,
   "id": "de5a0050-7e12-4dec-a75c-da33cb2f027e",
   "metadata": {},
   "outputs": [],
   "source": [
    "print(soup.prettify())"
   ]
  },
  {
   "cell_type": "code",
   "execution_count": null,
   "id": "280834b4-15eb-4571-bfa9-859a0cb3f15a",
   "metadata": {},
   "outputs": [],
   "source": [
    "soup.title"
   ]
  },
  {
   "cell_type": "code",
   "execution_count": null,
   "id": "d2ff276a-5152-4dc6-9bc1-23b3f9e4ee4d",
   "metadata": {},
   "outputs": [],
   "source": [
    "soup.head"
   ]
  },
  {
   "cell_type": "code",
   "execution_count": null,
   "id": "b871700d-d5b7-454b-a665-91f3f3ca4522",
   "metadata": {},
   "outputs": [],
   "source": [
    "soup.body"
   ]
  },
  {
   "cell_type": "code",
   "execution_count": null,
   "id": "c14d0799-8ac1-4454-a18e-bb33e0294687",
   "metadata": {},
   "outputs": [],
   "source": [
    "h1 = soup.find(\"h1\")"
   ]
  },
  {
   "cell_type": "code",
   "execution_count": null,
   "id": "5b9cfab8-1115-4fff-a311-d922b0c0827c",
   "metadata": {},
   "outputs": [],
   "source": [
    "soup.find_all(\"p\")"
   ]
  },
  {
   "cell_type": "code",
   "execution_count": null,
   "id": "6000e348-2e50-4208-a5ee-159662af14a2",
   "metadata": {},
   "outputs": [],
   "source": [
    "h1.name"
   ]
  },
  {
   "cell_type": "code",
   "execution_count": null,
   "id": "3dd58e5a-0a7b-4247-a6cf-ca230bd05fc0",
   "metadata": {},
   "outputs": [],
   "source": [
    "h1.text"
   ]
  }
 ],
 "metadata": {
  "kernelspec": {
   "display_name": "Python 3 (ipykernel)",
   "language": "python",
   "name": "python3"
  },
  "language_info": {
   "codemirror_mode": {
    "name": "ipython",
    "version": 3
   },
   "file_extension": ".py",
   "mimetype": "text/x-python",
   "name": "python",
   "nbconvert_exporter": "python",
   "pygments_lexer": "ipython3",
   "version": "3.9.7"
  }
 },
 "nbformat": 4,
 "nbformat_minor": 5
}
