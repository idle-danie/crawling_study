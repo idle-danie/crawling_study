{
 "cells": [
  {
   "cell_type": "code",
   "execution_count": null,
   "id": "7c2007bc",
   "metadata": {},
   "outputs": [],
   "source": [
    "import requests\n",
    "from bs4 import BeautifulSoup"
   ]
  },
  {
   "cell_type": "code",
   "execution_count": null,
   "id": "9a808a3e-605b-42a4-af26-c54d2e0a9080",
   "metadata": {},
   "outputs": [],
   "source": [
    "res = requests.get(\"http://naver.com\")\n",
    "soup = BeautifulSoup(res.text, \"html.parser\")"
   ]
  },
  {
   "cell_type": "code",
   "execution_count": null,
   "id": "26e256af-33d9-42ac-8334-fa2d1ae5d4b0",
   "metadata": {},
   "outputs": [],
   "source": [
    "soup.find(\"div\")"
   ]
  },
  {
   "cell_type": "code",
   "execution_count": null,
   "id": "2d09a177",
   "metadata": {},
   "outputs": [],
   "source": [
    "soup.find(\"div\",id = \"results\")"
   ]
  },
  {
   "cell_type": "code",
   "execution_count": null,
   "id": "e56203e6-22b3-44d6-9498-bca9cf27dbf5",
   "metadata": {},
   "outputs": [],
   "source": [
    "find_result = soup.find(\"div\", \"page-header\")"
   ]
  },
  {
   "cell_type": "code",
   "execution_count": null,
   "id": "ec8182c3",
   "metadata": {},
   "outputs": [],
   "source": [
    "find_result.h1.text.strip()"
   ]
  }
 ],
 "metadata": {
  "kernelspec": {
   "display_name": "Python 3 (ipykernel)",
   "language": "python",
   "name": "python3"
  },
  "language_info": {
   "codemirror_mode": {
    "name": "ipython",
    "version": 3
   },
   "file_extension": ".py",
   "mimetype": "text/x-python",
   "name": "python",
   "nbconvert_exporter": "python",
   "pygments_lexer": "ipython3",
   "version": "3.9.7"
  }
 },
 "nbformat": 4,
 "nbformat_minor": 5
}
